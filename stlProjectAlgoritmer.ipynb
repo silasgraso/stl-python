{
 "cells": [
  {
   "cell_type": "code",
   "execution_count": 11,
   "metadata": {},
   "outputs": [
    {
     "data": {
      "text/plain": [
       "47653"
      ]
     },
     "execution_count": 11,
     "metadata": {},
     "output_type": "execute_result"
    }
   ],
   "source": [
    "import pandas as pd\n",
    "import sqlite3\n",
    "import matplotlib.pyplot as plt\n",
    "import numpy as np\n",
    "import time\n",
    "from stl import mesh\n",
    "\n",
    "# Indlæs data fra Excel-filen\n",
    "excel_file_path = \"C:/Users/Silas/source/repos/StlProject/simplemaps_worldcities_basicv1.77/worldcities.xlsx\"\n",
    "df = pd.read_excel(excel_file_path)\n",
    "conn = sqlite3.connect('worldcities.db')\n",
    "df.to_sql('worldcities', conn, if_exists='replace', index=False)"
   ]
  },
  {
   "cell_type": "code",
   "execution_count": 12,
   "metadata": {},
   "outputs": [
    {
     "name": "stdout",
     "output_type": "stream",
     "text": [
      "Samlet tid for 1000 rækker: 0 sekunder\n",
      "Samlet tid for 2000 rækker: 1 sekunder\n",
      "Samlet tid for 3000 rækker: 1 sekunder\n",
      "Samlet tid for 4000 rækker: 3 sekunder\n",
      "Samlet tid for 5000 rækker: 5 sekunder\n",
      "Samlet tid for 6000 rækker: 7 sekunder\n",
      "Samlet tid for 7000 rækker: 11 sekunder\n",
      "Samlet tid for 8000 rækker: 16 sekunder\n",
      "Samlet tid for 9000 rækker: 22 sekunder\n",
      "Samlet tid for 10000 rækker: 30 sekunder\n",
      "Samlet tid for 11000 rækker: 39 sekunder\n",
      "Samlet tid for 12000 rækker: 50 sekunder\n",
      "Samlet tid for 13000 rækker: 64 sekunder\n",
      "Samlet tid for 14000 rækker: 80 sekunder\n",
      "Samlet tid for 15000 rækker: 97 sekunder\n",
      "Samlet tid for 16000 rækker: 117 sekunder\n",
      "Samlet tid for 17000 rækker: 140 sekunder\n",
      "Samlet tid for 18000 rækker: 166 sekunder\n",
      "Samlet tid for 19000 rækker: 196 sekunder\n",
      "Samlet tid for 20000 rækker: 227 sekunder\n"
     ]
    }
   ],
   "source": [
    "df = pd.read_sql_query(\"SELECT lat, lng, population FROM worldcities\", conn)\n",
    "\n",
    "def euclidean_distance(point, points, k):\n",
    "    points = np.asarray(points)\n",
    "    dist_2 = np.sum((points - point)**2, axis=1)\n",
    "    distances = np.sqrt(dist_2)\n",
    "    return np.argsort(distances)[1:k+1]\n",
    "\n",
    "points = df[['lat', 'lng']].values\n",
    "\n",
    "k = 10\n",
    "\n",
    "row_counts = [1000, 2000, 3000, 4000, 5000, 6000, 7000, 8000, 9000, 10000, 11000, 12000, 13000, 14000, 15000, 16000, 17000, 18000, 19000, 20000]\n",
    "\n",
    "timings = {}\n",
    "\n",
    "total_start_time = time.time()\n",
    "\n",
    "cumulative_time = 0\n",
    "for count in row_counts:\n",
    "    subset = df.iloc[:count]\n",
    "    points = subset[['lat', 'lng']].values\n",
    "    \n",
    "    start_time = time.time()\n",
    "    \n",
    "    closest_indices = []\n",
    "    for point in points:\n",
    "        closest_indices.append(euclidean_distance(point, points, k))\n",
    "    \n",
    "    end_time = time.time()\n",
    "    \n",
    "    cumulative_time += (end_time - start_time)\n",
    "    timings[count] = cumulative_time\n",
    "    print(f\"Samlet tid for {count} rækker: {int(timings[count])} sekunder\")"
   ]
  },
  {
   "cell_type": "code",
   "execution_count": 13,
   "metadata": {},
   "outputs": [
    {
     "name": "stdout",
     "output_type": "stream",
     "text": [
      "Samlet tid for 1000 rækker: 0 sekunder\n",
      "Samlet tid for 2000 rækker: 1 sekunder\n",
      "Samlet tid for 3000 rækker: 1 sekunder\n",
      "Samlet tid for 4000 rækker: 3 sekunder\n",
      "Samlet tid for 5000 rækker: 5 sekunder\n",
      "Samlet tid for 6000 rækker: 8 sekunder\n",
      "Samlet tid for 7000 rækker: 12 sekunder\n",
      "Samlet tid for 8000 rækker: 17 sekunder\n",
      "Samlet tid for 9000 rækker: 24 sekunder\n",
      "Samlet tid for 10000 rækker: 32 sekunder\n",
      "Samlet tid for 11000 rækker: 43 sekunder\n",
      "Samlet tid for 12000 rækker: 56 sekunder\n",
      "Samlet tid for 13000 rækker: 70 sekunder\n",
      "Samlet tid for 14000 rækker: 87 sekunder\n",
      "Samlet tid for 15000 rækker: 107 sekunder\n",
      "Samlet tid for 16000 rækker: 129 sekunder\n",
      "Samlet tid for 17000 rækker: 167 sekunder\n",
      "Samlet tid for 18000 rækker: 210 sekunder\n",
      "Samlet tid for 19000 rækker: 261 sekunder\n",
      "Samlet tid for 20000 rækker: 308 sekunder\n"
     ]
    }
   ],
   "source": [
    "# Funktion til at finde de k nærmeste punkter ved hjælp af Manhattan-distance\n",
    "def manhattan_distance(point, points, k):\n",
    "    points = np.asarray(points)\n",
    "    distances = np.sum(np.abs(points - point), axis=1)\n",
    "    return np.argsort(distances)[1:k+1]\n",
    "\n",
    "k = 10\n",
    "\n",
    "row_counts = [1000, 2000, 3000, 4000, 5000, 6000, 7000, 8000, 9000, 10000, 11000, 12000, 13000, 14000, 15000, 16000, 17000, 18000, 19000, 20000]\n",
    "\n",
    "timings = {}\n",
    "\n",
    "total_start_time = time.time()\n",
    "\n",
    "cumulative_time = 0\n",
    "for count in row_counts:\n",
    "    subset = df.iloc[:count]\n",
    "    points = subset[['lat', 'lng']].values\n",
    "    \n",
    "    start_time = time.time()\n",
    "    \n",
    "    closest_indices = []\n",
    "    for point in points:\n",
    "        closest_indices.append(manhattan_distance(point, points, k))\n",
    "    \n",
    "    end_time = time.time()\n",
    "    \n",
    "    cumulative_time += (end_time - start_time)\n",
    "    timings[count] = cumulative_time\n",
    "    print(f\"Samlet tid for {count} rækker: {int(timings[count])} sekunder\")"
   ]
  },
  {
   "cell_type": "code",
   "execution_count": 19,
   "metadata": {},
   "outputs": [
    {
     "name": "stdout",
     "output_type": "stream",
     "text": [
      "Samlet tid for 1000 rækker: 3 sekunder\n",
      "Samlet tid for 2000 rækker: 20 sekunder\n",
      "Samlet tid for 3000 rækker: 57 sekunder\n",
      "Samlet tid for 4000 rækker: 125 sekunder\n",
      "Samlet tid for 5000 rækker: 227 sekunder\n",
      "Samlet tid for 6000 rækker: 377 sekunder\n",
      "Samlet tid for 7000 rækker: 581 sekunder\n",
      "Samlet tid for 8000 rækker: 841 sekunder\n",
      "Samlet tid for 9000 rækker: 1158 sekunder\n",
      "Samlet tid for 10000 rækker: 1549 sekunder\n",
      "Samlet tid for 11000 rækker: 2013 sekunder\n",
      "Samlet tid for 12000 rækker: 2631 sekunder\n",
      "Samlet tid for 13000 rækker: 3344 sekunder\n",
      "Samlet tid for 14000 rækker: 4088 sekunder\n",
      "Samlet tid for 15000 rækker: 4975 sekunder\n",
      "Samlet tid for 16000 rækker: 75368 sekunder\n",
      "Samlet tid for 17000 rækker: 76537 sekunder\n",
      "Samlet tid for 18000 rækker: 77827 sekunder\n",
      "Samlet tid for 19000 rækker: 79171 sekunder\n",
      "Samlet tid for 20000 rækker: 131946 sekunder\n"
     ]
    }
   ],
   "source": [
    "import pandas as pd\n",
    "import numpy as np\n",
    "import sqlite3\n",
    "import time\n",
    "from math import sin, cos, sqrt, asin, radians\n",
    "\n",
    "def haversine_distance(point, points, k):\n",
    "    lat1, lon1 = point\n",
    "    R = 6371.0\n",
    "\n",
    "    def haversine_distance_formula(lat1, lon1, lat2, lon2):\n",
    "        dlat = radians(lat2 - lat1)\n",
    "        dlon = radians(lon2 - lon1)\n",
    "        a = sin(dlat / 2)**2 + cos(radians(lat1)) * cos(radians(lat2)) * sin(dlon / 2)**2\n",
    "        c = 2 * asin(min(1, sqrt(a)))\n",
    "        d = R * c\n",
    "        return d\n",
    "    \n",
    "    distances = np.array([haversine_distance_formula(lat1, lon1, lat2, lon2) for lat2, lon2 in points])\n",
    "    return np.argsort(distances)[1:k+1]\n",
    "\n",
    "k = 10\n",
    "\n",
    "row_counts = [1000, 2000, 3000, 4000, 5000, 6000, 7000, 8000, 9000, 10000, 11000, 12000, 13000, 14000, 15000, 16000, 17000, 18000, 19000, 20000]\n",
    "\n",
    "timings = {}\n",
    "\n",
    "total_start_time = time.time()\n",
    "\n",
    "cumulative_time = 0\n",
    "for count in row_counts:\n",
    "    subset = df.iloc[:count]\n",
    "    points = subset[['lat', 'lng']].values\n",
    "    \n",
    "    start_time = time.time()\n",
    "    \n",
    "    closest_indices = []\n",
    "    for point in points:\n",
    "        closest_indices.append(haversine_distance(point, points, k))\n",
    "    \n",
    "    end_time = time.time()\n",
    "    \n",
    "    cumulative_time += (end_time - start_time)\n",
    "    timings[count] = cumulative_time\n",
    "    print(f\"Samlet tid for {count} rækker: {int(timings[count])} sekunder\")"
   ]
  }
 ],
 "metadata": {
  "kernelspec": {
   "display_name": "Python 3",
   "language": "python",
   "name": "python3"
  },
  "language_info": {
   "codemirror_mode": {
    "name": "ipython",
    "version": 3
   },
   "file_extension": ".py",
   "mimetype": "text/x-python",
   "name": "python",
   "nbconvert_exporter": "python",
   "pygments_lexer": "ipython3",
   "version": "3.12.3"
  }
 },
 "nbformat": 4,
 "nbformat_minor": 2
}
